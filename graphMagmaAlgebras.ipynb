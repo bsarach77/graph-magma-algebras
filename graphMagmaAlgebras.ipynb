{
 "cells": [
  {
   "cell_type": "markdown",
   "metadata": {},
   "source": [
    "# Graph Magma Class "
   ]
  },
  {
   "cell_type": "code",
   "execution_count": 2,
   "metadata": {},
   "outputs": [],
   "source": [
    "class graphMagma:\n",
    "    from sage.matrix.constructor import block_matrix, zero_matrix, identity_matrix, matrix\n",
    "    from sage.rings.integer_ring import ZZ\n",
    "    #Create a global variable to store the generators\n",
    "    generators = []\n",
    "    Inc = matrix(ZZ, 0, 0, [])\n",
    "    multiplication_table = matrix(SR,0,0,[])\n",
    "    #Create a global variable to store the graph\n",
    "    graph = []\n",
    "    def __init__(self, graph:list):\n",
    "        self.graph = graph\n",
    "        self.generators = self.getGenerators()\n",
    "        self.Inc = self.getIncidenceMatrix()\n",
    "        self.multiplication_table = self.getMultiplicationTable()\n",
    "    def getGenerators(self):\n",
    "        self.generators = []\n",
    "        for i in range(len(self.graph)):\n",
    "            for j in range(self.graph[i][1]):\n",
    "                self.generators.append(var(f\"a_{i}_{j}\", latex_name=fr\"\\alpha_{{{i},{j}}}\"))\n",
    "        return self.generators\n",
    "    def getGraph(self):\n",
    "        return self.graph\n",
    "    def incidenceMatrix(self):\n",
    "        G=self.graph\n",
    "        I=self.Inc\n",
    "        for g in G:\n",
    "            if g[0] == 'K':\n",
    "                I = block_matrix([[I, matrix(I.nrows(), g[1],[1]*(I.nrows()*g[1]))], [zero_matrix(g[1], I.ncols()), matrix(g[1], g[1], [1]*(g[1]*g[1]))]])\n",
    "            else:\n",
    "                I = block_matrix([[I, matrix(I.nrows(), g[1],[1]*(I.nrows()*g[1]))], [zero_matrix(g[1], I.ncols()), matrix(g[1],g[1])]])  \n",
    "        self.Inc = I\n",
    "    def getIncidenceMatrix(self):\n",
    "        self.incidenceMatrix()\n",
    "        return self.Inc  \n",
    "    def multiplicationTable(self):\n",
    "        I=self.Inc\n",
    "        M=matrix(SR,I.nrows(),I.nrows())\n",
    "        self.getGenerators()\n",
    "        for i in range(I.nrows()):\n",
    "            for j in range(I.nrows()):\n",
    "                if I[i,j]==0:\n",
    "                    M[i,j]=self.generators[j]\n",
    "                else:\n",
    "                    M[i,j]=self.generators[i]\n",
    "        self.multiplication_table = M\n",
    "    def getMultiplicationTable(self):\n",
    "        self.multiplicationTable()\n",
    "        return self.multiplication_table"
   ]
  },
  {
   "cell_type": "markdown",
   "metadata": {},
   "source": [
    "# Graph Magma Algebra Class"
   ]
  },
  {
   "cell_type": "code",
   "execution_count": 169,
   "metadata": {},
   "outputs": [],
   "source": [
    "from sage.algebras.free_algebra import FreeAlgebra\n",
    "from sage.algebras.free_algebra_quotient import FreeAlgebraQuotient\n",
    "from sage.structure.element import Element\n",
    "from random import choice\n",
    "relations=[]\n",
    "class GraphMagmaAlg:\n",
    "    \"\"\"\n",
    "    This class implements the graph magma algebra.\n",
    "    It is a quotient of the free algebra over the base ring.\n",
    "    The generators are the elements of the graph.\n",
    "    The relations are given by the incidence matrix of the graph.\n",
    "\n",
    "    The attributes of the class are:\n",
    "    - base_ring: the base ring of the algebra\n",
    "    - generators: the generators of the algebra\n",
    "    - graph: the graph of the algebra\n",
    "    - multiplication_table: the multiplication table of the algebra\n",
    "    - magma_algebra: the quotient of the free algebra\n",
    "    - gens: the generators of the quotient algebra\n",
    "    - local_decomposition: the generators of cyclic left local projective ideals in the indecomposable decomposition of the graph magma algebra\n",
    "    - simple_left_ideals: the simple left ideals of local projective components of the graph magma algebra\n",
    "    - relations: the relations of the algebra induced by the incidence matrix of the graph\n",
    "    - Indecomposable_Injective: the indecomposable injective left modules over the graph magma algebra indexed by the local projective components of the graph\n",
    "    \"\"\"\n",
    "    def __init__(self,base_ring,GM:graphMagma):\n",
    "        R=FreeAlgebraQuotient\n",
    "        self.base_ring=base_ring\n",
    "        self.generators=GM.getGenerators()\n",
    "        self.generators_str=[str(g) for g in self.generators]\n",
    "        self.graph=GM.getGraph()\n",
    "        self.multiplication_table=GM.getMultiplicationTable()\n",
    "        # Determine the number of generators from the list\n",
    "        n = len(self.generators)\n",
    "        # Create a string for the generator names\n",
    "        generator_names_str =', '.join(self.generators_str)\n",
    "        #g_str=f\"R.<{generator_names_str}>=FreeAlgebraQuotient(A,self.mons,self.mats)\";print(g_str)\n",
    "        # Create the FreeAlgebra instance\n",
    "        A = FreeAlgebra(base_ring, n,generator_names_str)\n",
    "        self.alg=A\n",
    "        F=A.monoid() #generator_names_str=F.gens();print(F.gens())\n",
    "        self.mons=[F(1)]+list(F.gens())\n",
    "        self.mats=self.build_relations()\n",
    "        self.magma_algebra=FreeAlgebraQuotient(A, self.mons, self.mats, names=self.generators_str)\n",
    "        splt=[g[1] for g in self.graph]\n",
    "        L=self.magma_algebra.gens()\n",
    "        self.gens=self.split_list(list(L),list(splt))\n",
    "        self.local_decomposition=self.getDecomposition()\n",
    "        self.simple_left_ideals=[self.getSimpleLeftIdeals(i) for i in range(len(self.graph)+1)]\n",
    "        self.magma_algebra.generators=self.split_list(list(self.magma_algebra.gens()),list(splt))\n",
    "    \n",
    "    def __contains__(self, item):\n",
    "        return item in self.magma_algebra\n",
    "    \n",
    "    def __str__(self):\n",
    "        return f\"GraphMagmaAlg with generators {list(self.generators_str)}\"\n",
    "    def __repr__(self):\n",
    "        return f\"GraphMagmaAlg with generators {list(self.generators_str)}\"\n",
    "\n",
    "    def build_relations(self):\n",
    "        act=[];L=[];idx=0\n",
    "        n=len(self.generators)\n",
    "        self.relations=[];M=MatrixSpace(self.base_ring,n+1);I=identity_matrix(n+1)\n",
    "        T=self.multiplication_table\n",
    "        for j in range(T.nrows()):\n",
    "            L=list(I[j+1])\n",
    "            for i in range(T.ncols()):\n",
    "                idx=self.generators.index(T[i,j])\n",
    "                L+=list(I[idx+1])\n",
    "            act.append(M(L))\n",
    "        return act\n",
    "            \n",
    "    def split_list(self,L, lengths):\n",
    "        result = []\n",
    "        index = 0\n",
    "        for length in lengths:\n",
    "            sublist = L[index:index + length]\n",
    "            result.append(sublist)\n",
    "            index += length\n",
    "        return result\n",
    "\n",
    "    def getDecomposition(self):\n",
    "        R=self.magma_algebra;g=self.gens\n",
    "        L=[R(f[0]) for f in g]\n",
    "        ideal_generators=[L[0]]+[L[i]-L[i-1] for i in [1..len(L)-1]]+[R(1)-L[-1]]\n",
    "        return ideal_generators\n",
    "\n",
    "    def getSimpleLeftIdeals(self,n:int):\n",
    "        '''This function gives the generators of the simple left ideals in a particular local projective component.\n",
    "        n represents the index of the local projective component.     '''\n",
    "        R=self.magma_algebra;G=self.graph;L=self.gens\n",
    "        if n==0:\n",
    "            if G[0][0]=='N':\n",
    "                return [L[0][0]]\n",
    "            else:\n",
    "                return [L[0][i]-L[0][0] for i in range(1,len(L[0]))]\n",
    "        else:\n",
    "            if n<len(G)-1:\n",
    "                sub_graph=G[n-1:n+1]\n",
    "                if sub_graph[0][0]=='K' and sub_graph[1][0]=='K': # (K,K)\n",
    "                    if sub_graph[1][1]==1:\n",
    "                        return [L[n][0]-L[n-1][0]]\n",
    "                    else:\n",
    "                        return [L[n][0]-L[n][i] for i in range(1,len(L[n]))]\n",
    "                elif sub_graph[0][0]=='K' and sub_graph[1][0]=='N': # (K,N)\n",
    "                    return [L[n][0]-L[n-1][0]]\n",
    "                elif sub_graph[0][0]==\"N\" and sub_graph[1][0]==\"K\": # (N,K)\n",
    "                    if sub_graph[0][1]==sub_graph[1][1]:\n",
    "                        return [L[n][0]-L[n-1][0]]\n",
    "                    elif sub_graph[0][1]>1 and sub_graph[1][1]==1:\n",
    "                        return [L[n-1][i]-L[n-1][0] for i in range(1,len(L[n-1]))]\n",
    "                    elif sub_graph[0][1]==1 and sub_graph[1][1]>1:\n",
    "                        return [L[n][0]-L[n][i] for i in range(1,len(L[n]))] \n",
    "                    else:\n",
    "                        return [L[n-1][i]-L[n-1][0] for i in range(1,len(L[n-1]))]+[L[n][0]-L[n][i] for i in range(1,len(L[n]))]\n",
    "                elif sub_graph[0][0]==\"N\" and sub_graph[1][0]==\"N\": # (N,N)\n",
    "                    if sub_graph[0][1]==1:\n",
    "                        return [L[n][0]-L[n-1][0]]\n",
    "                    else:\n",
    "                        return [L[n-1][i]-L[n-1][0] for i in range(1,len(L[n-1]))]\n",
    "            else:\n",
    "                if G[n-1][0]=='N':\n",
    "                    return [L[n-1][i]-L[n-1][0] for i in range(1,len(L[n-1]))]\n",
    "                else:\n",
    "                    return [1-L[n-1][0]]\n",
    "\n",
    "    def Indecomposable_Injective(self,m:int,return_actions=False):\n",
    "        R=self.magma_algebra;G=self.graph;L=R.generators;dim=0\n",
    "        actions={}\n",
    "        if m>0:\n",
    "            if m<len(G)-1:\n",
    "                sub_graph=G[m:m+2]\n",
    "                if sub_graph[0][0]=='N' and sub_graph[1][0]=='N': # (N,N)\n",
    "                    dim=sub_graph[1][1]\n",
    "                    for l in L:\n",
    "                        if L.index(l)<=m:\n",
    "                            for g in l:\n",
    "                                actions[str(g)]=matrix(QQ,dim,dim)\n",
    "                        elif L.index(l)==m+1:\n",
    "                            mat=matrix(QQ,dim,dim,[[1]+[0]*(dim-1)]+[[0]*dim for i in range(dim-1)])\n",
    "                            for g in l:\n",
    "                                actions[str(g)]=mat+self.shift_columns_right(mat,l.index(g))\n",
    "                        else:\n",
    "                            for g in l:\n",
    "                                actions[str(g)]=identity_matrix(QQ,dim)\n",
    "                    if return_actions:\n",
    "                        return actions,GraphMagmaModule(self.magma_algebra,actions)\n",
    "                    else:\n",
    "                        return GraphMagmaModule(self.magma_algebra,actions)\n",
    "                    return actions\n",
    "                else:\n",
    "                    return f\"Under construction\"\n",
    "            else:\n",
    "                return f\"Under construction\"\n",
    "        else:\n",
    "            return f\"Under construction\"\n",
    "\n",
    "    def shift_columns_right(self,M, k):\n",
    "        \"\"\"\n",
    "        Shifts the columns of matrix M to the right by k positions.\n",
    "        Vacant positions on the left are filled with zeros.\n",
    "    \n",
    "        Args:\n",
    "            M: A SageMath matrix.\n",
    "            k: Number of positions to shift to the right.\n",
    "    \n",
    "        Returns:\n",
    "            A new matrix with shifted columns.\n",
    "        \"\"\"\n",
    "        if k==0:\n",
    "            return matrix(M.base_ring(),M.nrows(),M.ncols())\n",
    "        else:\n",
    "            nrows, ncols = M.nrows(), M.ncols()\n",
    "            k = k % (ncols + 1)  # Ensure k is within a valid range\n",
    "            zero_part = Matrix(M.base_ring(), nrows, k)  # Create zero matrix of width k\n",
    "            shifted_part = M[:, :ncols - k] if k < ncols else Matrix(M.base_ring(), nrows, 0)  # Remaining columns\n",
    "            return zero_part.augment(shifted_part)"
   ]
  },
  {
   "cell_type": "markdown",
   "metadata": {},
   "source": [
    "# GMA Module Class"
   ]
  },
  {
   "cell_type": "code",
   "execution_count": 162,
   "metadata": {},
   "outputs": [],
   "source": [
    "from sage.modules.module import Module\n",
    "from sage.modules.free_module import VectorSpace\n",
    "from sage.rings.rational_field import QQ\n",
    "from sage.matrix.constructor import matrix\n",
    "\n",
    "class GraphMagmaModule(Module):\n",
    "    def __init__(self, algebra, scalar_mults:dict):\n",
    "        \"\"\"\n",
    "        algebra: graphMagmaAlgebra nesnesi\n",
    "        dimension: Modülün boyutu (vektör uzayı boyutu)\n",
    "        scalar_mults: graphMagmaAlgebra taban elemanlarının modül taban elemanları üzerindeki etkilerini temsil eden matrisler\n",
    "        \"\"\"\n",
    "        self.algebra = algebra\n",
    "        self.dimension = next(iter(scalar_mults.values())).nrows()  # Modülün boyutu\n",
    "        self.vector_space = VectorSpace(QQ, self.dimension)  # Vektör uzayı\n",
    "        self.scalar_mults = scalar_mults\n",
    "        \n",
    "        # Modülün taban elemanlarını oluştur\n",
    "        self.basis = [self.vector_space.basis()[i] for i in range(self.dimension)]\n",
    "    \n",
    "    def act_on(self, algebra_element:str, vector):\n",
    "        \"\"\"\n",
    "        Modül elemanına algebra elemanı ile çarpım etkisini uygular.\n",
    "        algebra_element: graphMagmaAlgebra'nın bir elemanı\n",
    "        vector: Modülün bir elemanı (bir vektör)\n",
    "        \"\"\"\n",
    "        \n",
    "        # Algebra elemanının vektör uzayı üzerindeki etkisini matris çarpımı olarak uygula\n",
    "        transformed_vector = self.scalar_mults.get(algebra_element) * vector\n",
    "        \n",
    "        return transformed_vector\n",
    "    \n",
    "    def __repr__(self):\n",
    "        return f\"GraphMagmaModule over {self.algebra} with dimension {self.dimension}\\nBasis: {self.basis}\"\n"
   ]
  },
  {
   "cell_type": "markdown",
   "metadata": {},
   "source": [
    "# Examples"
   ]
  },
  {
   "cell_type": "markdown",
   "metadata": {},
   "source": [
    "## Define the graph magma algebra GM"
   ]
  },
  {
   "cell_type": "code",
   "execution_count": 170,
   "metadata": {},
   "outputs": [
    {
     "data": {
      "text/plain": [
       "[[a_0_0, a_0_1], [a_1_0, a_1_1], [a_2_0, a_2_1, a_2_2]]"
      ]
     },
     "execution_count": 170,
     "metadata": {},
     "output_type": "execute_result"
    }
   ],
   "source": [
    "M=graphMagma([('K',2),('N',2),('N',3)])\n",
    "GM=GraphMagmaAlg(QQ,M)\n",
    "R=GM.magma_algebra\n",
    "R.generators"
   ]
  },
  {
   "cell_type": "code",
   "execution_count": 181,
   "metadata": {},
   "outputs": [
    {
     "data": {
      "text/plain": [
       "[[-a_0_0 + a_0_1],\n",
       " [-a_0_0 + a_1_0],\n",
       " [-a_1_0 + a_1_1],\n",
       " [-a_2_0 + a_2_1, -a_2_0 + a_2_2]]"
      ]
     },
     "execution_count": 181,
     "metadata": {},
     "output_type": "execute_result"
    }
   ],
   "source": [
    "GM.simple_left_ideals"
   ]
  },
  {
   "cell_type": "markdown",
   "metadata": {},
   "source": [
    "## Define a module structure on GM"
   ]
  },
  {
   "cell_type": "code",
   "execution_count": 182,
   "metadata": {},
   "outputs": [
    {
     "data": {
      "text/plain": [
       "GraphMagmaModule over GraphMagmaAlg with generators ['a_0_0', 'a_0_1', 'a_1_0', 'a_1_1', 'a_2_0', 'a_2_1', 'a_2_2'] with dimension 3\n",
       "Basis: [(1, 0, 0), (0, 1, 0), (0, 0, 1)]"
      ]
     },
     "execution_count": 182,
     "metadata": {},
     "output_type": "execute_result"
    }
   ],
   "source": [
    "GS=R.generators;GS\n",
    "actions={str(GS[0][0]):matrix(QQ,3), str(GS[0][1]):matrix(QQ,3), str(GS[1][0]):matrix(QQ,3), str(GS[1][1]):matrix(QQ,3), str(GS[2][0]):matrix(QQ,3,3,[1,0,0,0,0,0,0,0,0]),\n",
    "         str(GS[2][1]):matrix(QQ,3,3,[1,1,0,0,0,0,0,0,0]),str(GS[2][2]):matrix(QQ,3,3,[1,0,1,0,0,0,0,0,0])}\n",
    "GMM=GraphMagmaModule(GM,actions);GMM"
   ]
  },
  {
   "cell_type": "code",
   "execution_count": 179,
   "metadata": {},
   "outputs": [
    {
     "data": {
      "text/plain": [
       "({'a_0_0': [0 0 0]\n",
       "  [0 0 0]\n",
       "  [0 0 0],\n",
       "  'a_0_1': [0 0 0]\n",
       "  [0 0 0]\n",
       "  [0 0 0],\n",
       "  'a_1_0': [0 0 0]\n",
       "  [0 0 0]\n",
       "  [0 0 0],\n",
       "  'a_1_1': [0 0 0]\n",
       "  [0 0 0]\n",
       "  [0 0 0],\n",
       "  'a_2_0': [1 0 0]\n",
       "  [0 0 0]\n",
       "  [0 0 0],\n",
       "  'a_2_1': [1 1 0]\n",
       "  [0 0 0]\n",
       "  [0 0 0],\n",
       "  'a_2_2': [1 0 1]\n",
       "  [0 0 0]\n",
       "  [0 0 0]},\n",
       " GraphMagmaModule over Free algebra quotient on 7 generators ('a_0_0', 'a_0_1', 'a_1_0', 'a_1_1', 'a_2_0', 'a_2_1', 'a_2_2') and dimension 8 over Rational Field with dimension 3\n",
       " Basis: [(1, 0, 0), (0, 1, 0), (0, 0, 1)])"
      ]
     },
     "execution_count": 179,
     "metadata": {},
     "output_type": "execute_result"
    }
   ],
   "source": [
    "GM.Indecomposable_Injective(1,return_actions=True)"
   ]
  },
  {
   "cell_type": "code",
   "execution_count": 180,
   "metadata": {},
   "outputs": [
    {
     "data": {
      "text/plain": [
       "(1, 0, 0)"
      ]
     },
     "execution_count": 180,
     "metadata": {},
     "output_type": "execute_result"
    }
   ],
   "source": [
    "GMM=GM.Indecomposable_Injective(1)\n",
    "GMM.act_on('a_2_1',GMM.basis[1])"
   ]
  },
  {
   "cell_type": "markdown",
   "metadata": {},
   "source": [
    "## Scalar multiplications on GMM"
   ]
  },
  {
   "cell_type": "code",
   "execution_count": 183,
   "metadata": {},
   "outputs": [
    {
     "name": "stdout",
     "output_type": "stream",
     "text": [
      "a_0_0 times (1, 0, 0) = (0, 0, 0)\n",
      "a_0_0 times (0, 1, 0) = (0, 0, 0)\n",
      "a_0_0 times (0, 0, 1) = (0, 0, 0)\n",
      "a_0_1 times (1, 0, 0) = (0, 0, 0)\n",
      "a_0_1 times (0, 1, 0) = (0, 0, 0)\n",
      "a_0_1 times (0, 0, 1) = (0, 0, 0)\n",
      "a_1_0 times (1, 0, 0) = (0, 0, 0)\n",
      "a_1_0 times (0, 1, 0) = (0, 0, 0)\n",
      "a_1_0 times (0, 0, 1) = (0, 0, 0)\n",
      "a_1_1 times (1, 0, 0) = (0, 0, 0)\n",
      "a_1_1 times (0, 1, 0) = (0, 0, 0)\n",
      "a_1_1 times (0, 0, 1) = (0, 0, 0)\n",
      "a_2_0 times (1, 0, 0) = (1, 0, 0)\n",
      "a_2_0 times (0, 1, 0) = (0, 0, 0)\n",
      "a_2_0 times (0, 0, 1) = (0, 0, 0)\n",
      "a_2_1 times (1, 0, 0) = (1, 0, 0)\n",
      "a_2_1 times (0, 1, 0) = (1, 0, 0)\n",
      "a_2_1 times (0, 0, 1) = (0, 0, 0)\n",
      "a_2_2 times (1, 0, 0) = (1, 0, 0)\n",
      "a_2_2 times (0, 1, 0) = (0, 0, 0)\n",
      "a_2_2 times (0, 0, 1) = (1, 0, 0)\n"
     ]
    }
   ],
   "source": [
    "for i in range(len(GM.graph)):\n",
    "    for j in range(GM.graph[i][1]):\n",
    "        for k in range(len(GMM.basis)):\n",
    "            print(str(R.generators[i][j]) + ' times ' + str(GMM.basis[k])+' = '+str(GMM.act_on(str(R.generators[i][j]),GMM.basis[k])))"
   ]
  },
  {
   "cell_type": "code",
   "execution_count": null,
   "metadata": {},
   "outputs": [],
   "source": []
  }
 ],
 "metadata": {
  "kernelspec": {
   "display_name": "SageMath 10.2",
   "language": "sage",
   "name": "sagemath"
  },
  "language_info": {
   "codemirror_mode": {
    "name": "ipython",
    "version": 3
   },
   "file_extension": ".py",
   "mimetype": "text/x-python",
   "name": "python",
   "nbconvert_exporter": "python",
   "pygments_lexer": "ipython3",
   "version": "3.11.7"
  }
 },
 "nbformat": 4,
 "nbformat_minor": 2
}
